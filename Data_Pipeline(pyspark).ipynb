{
 "cells": [
  {
   "cell_type": "code",
   "execution_count": 2,
   "id": "4488d30d-ecdf-4ffd-81dc-855cd2809dc8",
   "metadata": {},
   "outputs": [],
   "source": [
    "from pyspark.sql import SparkSession\n",
    "from pyspark.sql.functions import col, hour, dayofmonth, month, year, dayofweek, lit\n",
    "from pyspark.sql.window import Window\n",
    "from pyspark.sql.functions import row_number, when"
   ]
  },
  {
   "cell_type": "code",
   "execution_count": 7,
   "id": "a2dcd0b2-6001-4af6-b0ab-426a095b665e",
   "metadata": {},
   "outputs": [],
   "source": [
    "spark = SparkSession.builder \\\n",
    "    .appName(\"Uber Data Analytics\") \\\n",
    "    .getOrCreate()"
   ]
  },
  {
   "cell_type": "code",
   "execution_count": 9,
   "id": "8542c18c-f5d2-4c21-aac7-13627e4621a6",
   "metadata": {},
   "outputs": [],
   "source": [
    "df = spark.read.csv(r\"D:\\Uber Data Analytics\\data\\uber_data.csv\", header=True, inferSchema=True)"
   ]
  },
  {
   "cell_type": "code",
   "execution_count": 10,
   "id": "c852bec9-4b4c-4249-b72c-babf60673e1a",
   "metadata": {},
   "outputs": [
    {
     "name": "stdout",
     "output_type": "stream",
     "text": [
      "+--------+--------------------+---------------------+---------------+-------------+------------------+------------------+----------+------------------+------------------+------------------+------------+-----------+-----+-------+----------+------------+---------------------+------------+\n",
      "|VendorID|tpep_pickup_datetime|tpep_dropoff_datetime|passenger_count|trip_distance|  pickup_longitude|   pickup_latitude|RatecodeID|store_and_fwd_flag| dropoff_longitude|  dropoff_latitude|payment_type|fare_amount|extra|mta_tax|tip_amount|tolls_amount|improvement_surcharge|total_amount|\n",
      "+--------+--------------------+---------------------+---------------+-------------+------------------+------------------+----------+------------------+------------------+------------------+------------+-----------+-----+-------+----------+------------+---------------------+------------+\n",
      "|       1| 2016-03-01 00:00:00|  2016-03-01 00:07:55|              1|          2.5|-73.97674560546875|40.765151977539055|         1|                 N|-74.00426483154298| 40.74612808227539|           1|        9.0|  0.5|    0.5|      2.05|         0.0|                  0.3|       12.35|\n",
      "|       1| 2016-03-01 00:00:00|  2016-03-01 00:11:06|              1|          2.9|-73.98348236083984|40.767925262451165|         1|                 N|-74.00594329833984|  40.7331657409668|           1|       11.0|  0.5|    0.5|      3.05|         0.0|                  0.3|       15.35|\n",
      "|       2| 2016-03-01 00:00:00|  2016-03-01 00:31:06|              2|        19.98|-73.78202056884764| 40.64480972290039|         1|                 N|-73.97454071044923|  40.6757698059082|           1|       54.5|  0.5|    0.5|       8.0|         0.0|                  0.3|        63.8|\n",
      "|       2| 2016-03-01 00:00:00|  2016-03-01 00:00:00|              3|        10.78|-73.86341857910156|40.769813537597656|         1|                 N|-73.96965026855469|40.757766723632805|           1|       31.5|  0.0|    0.5|      3.78|        5.54|                  0.3|       41.62|\n",
      "|       2| 2016-03-01 00:00:00|  2016-03-01 00:00:00|              5|        30.43|-73.97174072265625| 40.79218292236328|         3|                 N|-74.17716979980467| 40.69505310058594|           1|       98.0|  0.0|    0.0|       0.0|        15.5|                  0.3|       113.8|\n",
      "+--------+--------------------+---------------------+---------------+-------------+------------------+------------------+----------+------------------+------------------+------------------+------------+-----------+-----+-------+----------+------------+---------------------+------------+\n",
      "only showing top 5 rows\n",
      "\n"
     ]
    }
   ],
   "source": [
    "df.show(5)"
   ]
  },
  {
   "cell_type": "code",
   "execution_count": 11,
   "id": "49677655-9b72-4ff9-a080-978e300a355b",
   "metadata": {},
   "outputs": [],
   "source": [
    "# Convert datetime columns\n",
    "df = df.withColumn(\"tpep_pickup_datetime\", col(\"tpep_pickup_datetime\").cast(\"timestamp\")) \\\n",
    "       .withColumn(\"tpep_dropoff_datetime\", col(\"tpep_dropoff_datetime\").cast(\"timestamp\"))"
   ]
  },
  {
   "cell_type": "code",
   "execution_count": 12,
   "id": "6753f63e-c9c4-4e10-b4a8-93f75d5dcf99",
   "metadata": {},
   "outputs": [
    {
     "name": "stdout",
     "output_type": "stream",
     "text": [
      "+--------+--------------------+---------------------+---------------+-------------+------------------+------------------+----------+------------------+------------------+------------------+------------+-----------+-----+-------+----------+------------+---------------------+------------+\n",
      "|VendorID|tpep_pickup_datetime|tpep_dropoff_datetime|passenger_count|trip_distance|  pickup_longitude|   pickup_latitude|RatecodeID|store_and_fwd_flag| dropoff_longitude|  dropoff_latitude|payment_type|fare_amount|extra|mta_tax|tip_amount|tolls_amount|improvement_surcharge|total_amount|\n",
      "+--------+--------------------+---------------------+---------------+-------------+------------------+------------------+----------+------------------+------------------+------------------+------------+-----------+-----+-------+----------+------------+---------------------+------------+\n",
      "|       1| 2016-03-01 00:00:00|  2016-03-01 00:07:55|              1|          2.5|-73.97674560546875|40.765151977539055|         1|                 N|-74.00426483154298| 40.74612808227539|           1|        9.0|  0.5|    0.5|      2.05|         0.0|                  0.3|       12.35|\n",
      "|       1| 2016-03-01 00:00:00|  2016-03-01 00:11:06|              1|          2.9|-73.98348236083984|40.767925262451165|         1|                 N|-74.00594329833984|  40.7331657409668|           1|       11.0|  0.5|    0.5|      3.05|         0.0|                  0.3|       15.35|\n",
      "|       2| 2016-03-01 00:00:00|  2016-03-01 00:31:06|              2|        19.98|-73.78202056884764| 40.64480972290039|         1|                 N|-73.97454071044923|  40.6757698059082|           1|       54.5|  0.5|    0.5|       8.0|         0.0|                  0.3|        63.8|\n",
      "|       2| 2016-03-01 00:00:00|  2016-03-01 00:00:00|              3|        10.78|-73.86341857910156|40.769813537597656|         1|                 N|-73.96965026855469|40.757766723632805|           1|       31.5|  0.0|    0.5|      3.78|        5.54|                  0.3|       41.62|\n",
      "|       2| 2016-03-01 00:00:00|  2016-03-01 00:00:00|              5|        30.43|-73.97174072265625| 40.79218292236328|         3|                 N|-74.17716979980467| 40.69505310058594|           1|       98.0|  0.0|    0.0|       0.0|        15.5|                  0.3|       113.8|\n",
      "+--------+--------------------+---------------------+---------------+-------------+------------------+------------------+----------+------------------+------------------+------------------+------------+-----------+-----+-------+----------+------------+---------------------+------------+\n",
      "only showing top 5 rows\n",
      "\n"
     ]
    }
   ],
   "source": [
    "# Display the first 5 rows of the dataframe after conversion\n",
    "df.show(5)"
   ]
  },
  {
   "cell_type": "code",
   "execution_count": 13,
   "id": "5808bc45-f9c9-451b-9dfc-d40f420c0b9b",
   "metadata": {},
   "outputs": [],
   "source": [
    "# Remove duplicates\n",
    "df = df.dropDuplicates()"
   ]
  },
  {
   "cell_type": "code",
   "execution_count": 14,
   "id": "2e79a2c3-f304-474f-9819-913fe4b60441",
   "metadata": {},
   "outputs": [],
   "source": [
    "# Create window specification\n",
    "windowSpec = Window.orderBy(lit(1))"
   ]
  },
  {
   "cell_type": "code",
   "execution_count": 15,
   "id": "e9b1b549-74be-4afe-9d49-a934250c2155",
   "metadata": {},
   "outputs": [
    {
     "name": "stdout",
     "output_type": "stream",
     "text": [
      "+--------------------+---------------------+---------+--------+----------+---------+------------+---------+--------+----------+---------+------------+-----------+\n",
      "|tpep_pickup_datetime|tpep_dropoff_datetime|pick_hour|pick_day|pick_month|pick_year|pick_weekday|drop_hour|drop_day|drop_month|drop_year|drop_weekday|datetime_id|\n",
      "+--------------------+---------------------+---------+--------+----------+---------+------------+---------+--------+----------+---------+------------+-----------+\n",
      "| 2016-03-10 07:07:59|  2016-03-10 07:15:17|        7|      10|         3|     2016|           5|        7|      10|         3|     2016|           5|          1|\n",
      "| 2016-03-10 07:08:05|  2016-03-10 07:22:06|        7|      10|         3|     2016|           5|        7|      10|         3|     2016|           5|          2|\n",
      "| 2016-03-10 07:09:37|  2016-03-10 07:20:53|        7|      10|         3|     2016|           5|        7|      10|         3|     2016|           5|          3|\n",
      "| 2016-03-10 07:14:12|  2016-03-10 07:19:22|        7|      10|         3|     2016|           5|        7|      10|         3|     2016|           5|          4|\n",
      "| 2016-03-10 07:14:23|  2016-03-10 07:20:58|        7|      10|         3|     2016|           5|        7|      10|         3|     2016|           5|          5|\n",
      "+--------------------+---------------------+---------+--------+----------+---------+------------+---------+--------+----------+---------+------------+-----------+\n",
      "only showing top 5 rows\n",
      "\n"
     ]
    }
   ],
   "source": [
    "# Create datetime dimension\n",
    "datetime_dim = df.select(\n",
    "    \"tpep_pickup_datetime\",\n",
    "    \"tpep_dropoff_datetime\",\n",
    "    hour(col(\"tpep_pickup_datetime\")).alias(\"pick_hour\"),\n",
    "    dayofmonth(col(\"tpep_pickup_datetime\")).alias(\"pick_day\"),\n",
    "    month(col(\"tpep_pickup_datetime\")).alias(\"pick_month\"),\n",
    "    year(col(\"tpep_pickup_datetime\")).alias(\"pick_year\"),\n",
    "    dayofweek(col(\"tpep_pickup_datetime\")).alias(\"pick_weekday\"),\n",
    "    hour(col(\"tpep_dropoff_datetime\")).alias(\"drop_hour\"),\n",
    "    dayofmonth(col(\"tpep_dropoff_datetime\")).alias(\"drop_day\"),\n",
    "    month(col(\"tpep_dropoff_datetime\")).alias(\"drop_month\"),\n",
    "    year(col(\"tpep_dropoff_datetime\")).alias(\"drop_year\"),\n",
    "    dayofweek(col(\"tpep_dropoff_datetime\")).alias(\"drop_weekday\")\n",
    ").withColumn(\"datetime_id\", row_number().over(windowSpec))\n",
    "\n",
    "# Display the first 5 rows of datetime dimension\n",
    "datetime_dim.show(5)"
   ]
  },
  {
   "cell_type": "code",
   "execution_count": 16,
   "id": "047a7b15-910f-4860-881c-08101e043963",
   "metadata": {},
   "outputs": [],
   "source": [
    "# Create dimensions with IDs\n",
    "passenger_count_dim = df.select(\"passenger_count\").distinct() \\\n",
    "    .withColumn(\"passenger_count_id\", row_number().over(windowSpec))"
   ]
  },
  {
   "cell_type": "code",
   "execution_count": 17,
   "id": "da6b8147-14a7-4f1c-a8f1-67d1bdf40118",
   "metadata": {},
   "outputs": [],
   "source": [
    "# Create trip distance dimension\n",
    "trip_distance_dim = df.select(\"trip_distance\").distinct() \\\n",
    "    .withColumn(\"trip_distance_id\", row_number().over(windowSpec))"
   ]
  },
  {
   "cell_type": "code",
   "execution_count": 18,
   "id": "2fa3cf54-f89a-4ee6-ae81-b4e5acc2c874",
   "metadata": {},
   "outputs": [
    {
     "name": "stdout",
     "output_type": "stream",
     "text": [
      "+---------------+------------------+\n",
      "|passenger_count|passenger_count_id|\n",
      "+---------------+------------------+\n",
      "|              1|                 1|\n",
      "|              6|                 2|\n",
      "|              3|                 3|\n",
      "|              5|                 4|\n",
      "|              4|                 5|\n",
      "+---------------+------------------+\n",
      "only showing top 5 rows\n",
      "\n"
     ]
    }
   ],
   "source": [
    "# Display the first 5 rows of passenger count dimension\n",
    "passenger_count_dim.show(5)"
   ]
  },
  {
   "cell_type": "code",
   "execution_count": 19,
   "id": "50ab1b51-785d-4080-ab1e-454a52673ecd",
   "metadata": {},
   "outputs": [
    {
     "name": "stdout",
     "output_type": "stream",
     "text": [
      "+-------------+----------------+\n",
      "|trip_distance|trip_distance_id|\n",
      "+-------------+----------------+\n",
      "|        19.98|               1|\n",
      "|        17.56|               2|\n",
      "|         2.86|               3|\n",
      "|         0.66|               4|\n",
      "|        10.65|               5|\n",
      "+-------------+----------------+\n",
      "only showing top 5 rows\n",
      "\n"
     ]
    }
   ],
   "source": [
    "# Display the first 5 rows of trip distance dimension\n",
    "trip_distance_dim.show(5)"
   ]
  },
  {
   "cell_type": "code",
   "execution_count": 20,
   "id": "3440c9f4-43d7-4034-8519-891d59d3d8d7",
   "metadata": {},
   "outputs": [],
   "source": [
    "# Rate code dimension with human-readable names\n",
    "rate_code_type = {\n",
    "    1: \"Standard rate\",\n",
    "    2: \"JFK\",\n",
    "    3: \"Newark\",\n",
    "    4: \"Nassau or Westchester\",\n",
    "    5: \"Negotiated fare\",\n",
    "    6: \"Group ride\"\n",
    "}"
   ]
  },
  {
   "cell_type": "code",
   "execution_count": 21,
   "id": "52e36ff3-5798-439b-8da5-649e33a818e6",
   "metadata": {},
   "outputs": [
    {
     "name": "stdout",
     "output_type": "stream",
     "text": [
      "+----------+------------+--------------------+\n",
      "|RatecodeID|rate_code_id|      rate_code_name|\n",
      "+----------+------------+--------------------+\n",
      "|         1|           1|       Standard rate|\n",
      "|         3|           2|              Newark|\n",
      "|         5|           3|     Negotiated fare|\n",
      "|         4|           4|Nassau or Westche...|\n",
      "|         2|           5|                 JFK|\n",
      "+----------+------------+--------------------+\n",
      "only showing top 5 rows\n",
      "\n"
     ]
    }
   ],
   "source": [
    "rate_code_dim = df.select(\"RatecodeID\").distinct() \\\n",
    "    .withColumn(\"rate_code_id\", row_number().over(windowSpec)) \\\n",
    "    .withColumn(\"rate_code_name\", when(col(\"RatecodeID\").isin(list(rate_code_type.keys())),\n",
    "                                       when(col(\"RatecodeID\") == 1, \"Standard rate\")\n",
    "                                       .when(col(\"RatecodeID\") == 2, \"JFK\")\n",
    "                                       .when(col(\"RatecodeID\") == 3, \"Newark\")\n",
    "                                       .when(col(\"RatecodeID\") == 4, \"Nassau or Westchester\")\n",
    "                                       .when(col(\"RatecodeID\") == 5, \"Negotiated fare\")\n",
    "                                       .when(col(\"RatecodeID\") == 6, \"Group ride\")\n",
    "                                       .otherwise(\"Unknown\")\n",
    "                                      ))\n",
    "\n",
    "# Display the first 5 rows of rate code dimension\n",
    "rate_code_dim.show(5)"
   ]
  },
  {
   "cell_type": "code",
   "execution_count": 22,
   "id": "38cc4632-9714-4bb2-8fe9-58e2b183dd4c",
   "metadata": {},
   "outputs": [],
   "source": [
    "# Create pickup location dimension\n",
    "pickup_location_dim = df.select(\"pickup_longitude\", \"pickup_latitude\").distinct() \\\n",
    "    .withColumn(\"pickup_location_id\", row_number().over(windowSpec))"
   ]
  },
  {
   "cell_type": "code",
   "execution_count": 23,
   "id": "75d6e9f4-ecfe-4173-9d3f-024269158441",
   "metadata": {},
   "outputs": [],
   "source": [
    "# Create dropoff location dimension\n",
    "dropoff_location_dim = df.select(\"dropoff_longitude\", \"dropoff_latitude\").distinct() \\\n",
    "    .withColumn(\"dropoff_location_id\", row_number().over(windowSpec))"
   ]
  },
  {
   "cell_type": "code",
   "execution_count": 24,
   "id": "b83e8564-7757-4e0b-9cc9-a0f0f95808b1",
   "metadata": {},
   "outputs": [],
   "source": [
    "# Payment type dimension with human-readable names\n",
    "payment_type_name = {\n",
    "    1: \"Credit card\",\n",
    "    2: \"Cash\",\n",
    "    3: \"No charge\",\n",
    "    4: \"Dispute\",\n",
    "    5: \"Unknown\",\n",
    "    6: \"Voided trip\"\n",
    "}"
   ]
  },
  {
   "cell_type": "code",
   "execution_count": 25,
   "id": "d3505801-bc09-44e7-a120-17e1b12a781e",
   "metadata": {},
   "outputs": [],
   "source": [
    "payment_type_dim = df.select(\"payment_type\").distinct() \\\n",
    "    .withColumn(\"payment_type_id\", row_number().over(windowSpec)) \\\n",
    "    .withColumn(\"payment_type_name\", when(col(\"payment_type\").isin(list(payment_type_name.keys())),\n",
    "                                         when(col(\"payment_type\") == 1, \"Credit card\")\n",
    "                                         .when(col(\"payment_type\") == 2, \"Cash\")\n",
    "                                         .when(col(\"payment_type\") == 3, \"No charge\")\n",
    "                                         .when(col(\"payment_type\") == 4, \"Dispute\")\n",
    "                                         .when(col(\"payment_type\") == 5, \"Unknown\")\n",
    "                                         .when(col(\"payment_type\") == 6, \"Voided trip\")\n",
    "                                         .otherwise(\"Unknown\")\n",
    "                                        ))"
   ]
  },
  {
   "cell_type": "code",
   "execution_count": 26,
   "id": "717cb6ad-4c30-4687-b02d-d451fef5bf60",
   "metadata": {},
   "outputs": [
    {
     "name": "stdout",
     "output_type": "stream",
     "text": [
      "+------------+---------------+-----------------+\n",
      "|payment_type|payment_type_id|payment_type_name|\n",
      "+------------+---------------+-----------------+\n",
      "|           1|              1|      Credit card|\n",
      "|           3|              2|        No charge|\n",
      "|           4|              3|          Dispute|\n",
      "|           2|              4|             Cash|\n",
      "+------------+---------------+-----------------+\n",
      "\n"
     ]
    }
   ],
   "source": [
    "# Display the first 5 rows of payment type dimension\n",
    "payment_type_dim.show(5)"
   ]
  },
  {
   "cell_type": "code",
   "execution_count": 27,
   "id": "7658c0c5-97ab-4ece-952b-d81f911196d8",
   "metadata": {},
   "outputs": [],
   "source": [
    "# Create a unique trip_id column for each trip\n",
    "df = df.withColumn(\"trip_id\", row_number().over(windowSpec))"
   ]
  },
  {
   "cell_type": "code",
   "execution_count": 28,
   "id": "2e16b0a7-f326-4367-8a8f-6393725c6207",
   "metadata": {},
   "outputs": [
    {
     "name": "stdout",
     "output_type": "stream",
     "text": [
      "+-------+--------+-----------+------------------+----------------+------------+------------------+------------------+-------------------+---------------+-----------+-----+-------+----------+------------+---------------------+------------+\n",
      "|trip_id|VendorID|datetime_id|passenger_count_id|trip_distance_id|rate_code_id|store_and_fwd_flag|pickup_location_id|dropoff_location_id|payment_type_id|fare_amount|extra|mta_tax|tip_amount|tolls_amount|improvement_surcharge|total_amount|\n",
      "+-------+--------+-----------+------------------+----------------+------------+------------------+------------------+-------------------+---------------+-----------+-----+-------+----------+------------+---------------------+------------+\n",
      "|      1|       2|          1|                 3|            1473|           1|                 N|             22300|              20073|              1|        7.5|  0.0|    0.5|       1.0|         0.0|                  0.3|         9.3|\n",
      "|      2|       2|          2|                 6|            1249|           1|                 N|              6827|               1846|              4|       11.5|  0.0|    0.5|       0.0|         0.0|                  0.3|        12.3|\n",
      "|      3|       2|          3|                 1|             397|           1|                 N|              4312|              16749|              1|       10.0|  0.0|    0.5|      2.16|         0.0|                  0.3|       12.96|\n",
      "|      4|       2|          4|                 2|            1028|           1|                 N|              5476|               7449|              4|        6.0|  0.0|    0.5|       0.0|         0.0|                  0.3|         6.8|\n",
      "|      5|       2|          5|                 6|            1490|           1|                 N|             20035|              13020|              4|        8.0|  0.0|    0.5|       0.0|         0.0|                  0.3|         8.8|\n",
      "|      6|       2|          6|                 1|             576|           1|                 N|              3672|                555|              1|       17.5|  0.0|    0.5|      3.66|         0.0|                  0.3|       21.96|\n",
      "|      7|       2|          7|                 1|            1331|           1|                 N|              6475|               9177|              4|        3.5|  0.0|    0.5|       0.0|         0.0|                  0.3|         4.3|\n",
      "|      8|       2|          8|                 6|            1078|           1|                 N|             21901|              21643|              1|        4.5|  0.0|    0.5|      1.06|         0.0|                  0.3|        6.36|\n",
      "|      9|       2|          9|                 2|              13|           1|                 N|             12950|              23304|              1|        7.5|  0.0|    0.5|       0.0|         0.0|                  0.3|         8.3|\n",
      "|     10|       2|         10|                 3|            1313|           1|                 N|             19247|              16764|              4|       13.0|  0.0|    0.5|       0.0|         0.0|                  0.3|        13.8|\n",
      "|     11|       2|         11|                 6|            1379|           1|                 N|             15310|               1088|              1|       15.0|  0.0|    0.5|       2.0|         0.0|                  0.3|        17.8|\n",
      "|     12|       2|         12|                 2|            1016|           1|                 N|             25471|               4381|              1|        6.0|  0.0|    0.5|      1.36|         0.0|                  0.3|        8.16|\n",
      "|     13|       2|         13|                 6|            1490|           1|                 N|             12821|              23178|              1|       10.5|  0.0|    0.5|      3.39|         0.0|                  0.3|       14.69|\n",
      "|     14|       2|         14|                 6|            1023|           1|                 N|             12431|              11791|              1|       14.5|  0.0|    0.5|      3.82|         0.0|                  0.3|       19.12|\n",
      "|     15|       2|         15|                 1|            1399|           1|                 N|              2771|               2752|              4|       11.0|  0.0|    0.5|       0.0|         0.0|                  0.3|        11.8|\n",
      "|     16|       2|         16|                 1|            1195|           1|                 N|             12167|              11792|              1|        8.0|  0.0|    0.5|      1.76|         0.0|                  0.3|       10.56|\n",
      "|     17|       2|         17|                 1|            1031|           1|                 N|              8014|              19569|              4|        2.5|  0.0|    0.5|       0.0|         0.0|                  0.3|         3.3|\n",
      "|     18|       2|         18|                 4|            1351|           1|                 N|             11146|               9200|              4|       31.0|  0.0|    0.5|       0.0|         0.0|                  0.3|        31.8|\n",
      "|     19|       2|         19|                 1|             761|           1|                 N|              7515|              20359|              1|       14.0|  0.0|    0.5|      2.96|         0.0|                  0.3|       17.76|\n",
      "|     20|       2|         20|                 1|              13|           1|                 N|             10360|              19714|              4|       10.0|  0.0|    0.5|       0.0|         0.0|                  0.3|        10.8|\n",
      "+-------+--------+-----------+------------------+----------------+------------+------------------+------------------+-------------------+---------------+-----------+-----+-------+----------+------------+---------------------+------------+\n",
      "only showing top 20 rows\n",
      "\n"
     ]
    }
   ],
   "source": [
    "# Create fact table by joining dimensions\n",
    "fact_table = df.join(passenger_count_dim, \"passenger_count\") \\\n",
    "               .join(trip_distance_dim, \"trip_distance\") \\\n",
    "               .join(rate_code_dim, \"RatecodeID\") \\\n",
    "               .join(pickup_location_dim, [\"pickup_longitude\", \"pickup_latitude\"]) \\\n",
    "               .join(dropoff_location_dim, [\"dropoff_longitude\", \"dropoff_latitude\"]) \\\n",
    "               .join(datetime_dim, [\"tpep_pickup_datetime\", \"tpep_dropoff_datetime\"]) \\\n",
    "               .join(payment_type_dim, \"payment_type\") \\\n",
    "               .select(\n",
    "                   \"trip_id\", \"VendorID\", \"datetime_id\", \"passenger_count_id\",\n",
    "                   \"trip_distance_id\", \"rate_code_id\", \"store_and_fwd_flag\",\n",
    "                   \"pickup_location_id\", \"dropoff_location_id\", \"payment_type_id\",\n",
    "                   \"fare_amount\", \"extra\", \"mta_tax\", \"tip_amount\", \"tolls_amount\",\n",
    "                   \"improvement_surcharge\", \"total_amount\"\n",
    "               )\n",
    "\n",
    "# Show the fact table\n",
    "fact_table.show()"
   ]
  },
  {
   "cell_type": "code",
   "execution_count": null,
   "id": "6f5e10d5-1b47-4f57-a8ba-eccb3b084d1a",
   "metadata": {},
   "outputs": [],
   "source": []
  }
 ],
 "metadata": {
  "kernelspec": {
   "display_name": "Python 3 (ipykernel)",
   "language": "python",
   "name": "python3"
  },
  "language_info": {
   "codemirror_mode": {
    "name": "ipython",
    "version": 3
   },
   "file_extension": ".py",
   "mimetype": "text/x-python",
   "name": "python",
   "nbconvert_exporter": "python",
   "pygments_lexer": "ipython3",
   "version": "3.12.1"
  }
 },
 "nbformat": 4,
 "nbformat_minor": 5
}
